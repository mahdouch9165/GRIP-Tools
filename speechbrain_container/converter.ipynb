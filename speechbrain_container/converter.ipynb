{
 "cells": [
  {
   "cell_type": "code",
   "execution_count": null,
   "metadata": {},
   "outputs": [],
   "source": [
    "from pydub import AudioSegment\n",
    "from IPython.display import Audio\n",
    "\n",
    "def convert_m4a_to_wav(input_file, output_file):\n",
    "    try:\n",
    "        # Load the M4A file\n",
    "        audio = AudioSegment.from_file(input_file, format=\"m4a\")\n",
    "\n",
    "        # Export the audio as WAV\n",
    "        audio.export(output_file, format=\"wav\")\n",
    "\n",
    "        print(f\"Successfully converted {input_file} to {output_file}\")\n",
    "        \n",
    "        # Display the audio player in the notebook\n",
    "        return Audio(output_file)\n",
    "    except Exception as e:\n",
    "        print(f\"Error: {str(e)}\")\n",
    "\n",
    "# Specify the input M4A file and the desired output WAV file\n",
    "input_file = \"speaker_verification_true.m4a\"\n",
    "output_file = \"speaker_verification_true.wav\"\n",
    "\n",
    "# Call the function to convert M4A to WAV and display the audio player\n",
    "audio_player = convert_m4a_to_wav(input_file, output_file)"
   ]
  }
 ],
 "metadata": {
  "kernelspec": {
   "display_name": "venv",
   "language": "python",
   "name": "python3"
  },
  "language_info": {
   "codemirror_mode": {
    "name": "ipython",
    "version": 3
   },
   "file_extension": ".py",
   "mimetype": "text/x-python",
   "name": "python",
   "nbconvert_exporter": "python",
   "pygments_lexer": "ipython3",
   "version": "3.9.13"
  }
 },
 "nbformat": 4,
 "nbformat_minor": 2
}
